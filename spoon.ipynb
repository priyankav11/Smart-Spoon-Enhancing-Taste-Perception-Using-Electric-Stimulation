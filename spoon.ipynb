{
  "cells": [
    {
      "cell_type": "code",
      "execution_count": null,
      "metadata": {
        "colab": {
          "base_uri": "https://localhost:8080/"
        },
        "id": "0jP7gcbP5dYL",
        "outputId": "62f70464-1570-4161-ccab-17b0dd8abc00"
      },
      "outputs": [
        {
          "name": "stdout",
          "output_type": "stream",
          "text": [
            "Mounted at /content/drive\n",
            "Requirement already satisfied: opencv-python-headless in /usr/local/lib/python3.11/dist-packages (4.11.0.86)\n",
            "Requirement already satisfied: pandas in /usr/local/lib/python3.11/dist-packages (2.2.2)\n",
            "Requirement already satisfied: numpy in /usr/local/lib/python3.11/dist-packages (2.0.2)\n",
            "Requirement already satisfied: python-dateutil>=2.8.2 in /usr/local/lib/python3.11/dist-packages (from pandas) (2.8.2)\n",
            "Requirement already satisfied: pytz>=2020.1 in /usr/local/lib/python3.11/dist-packages (from pandas) (2025.2)\n",
            "Requirement already satisfied: tzdata>=2022.7 in /usr/local/lib/python3.11/dist-packages (from pandas) (2025.2)\n",
            "Requirement already satisfied: six>=1.5 in /usr/local/lib/python3.11/dist-packages (from python-dateutil>=2.8.2->pandas) (1.17.0)\n"
          ]
        }
      ],
      "source": [
        "# Connect to Google Drive to save our data\n",
        "from google.colab import drive\n",
        "drive.mount('/content/drive')\n",
        "\n",
        "# Install tools we need\n",
        "!pip install opencv-python-headless pandas numpy\n",
        "\n",
        "# Load the tools\n",
        "import cv2  # For images\n",
        "import os   # For folders\n",
        "import pandas as pd  # For data tables\n",
        "import numpy as np   # For math\n",
        "from google.colab import files  # To download files"
      ]
    },
    {
      "cell_type": "code",
      "execution_count": null,
      "metadata": {
        "colab": {
          "base_uri": "https://localhost:8080/",
          "height": 456
        },
        "id": "oe6ttaK26DO2",
        "outputId": "eb22511c-0c99-4714-9d86-55187f4ffb00"
      },
      "outputs": [
        {
          "name": "stdout",
          "output_type": "stream",
          "text": [
            "Upload smart_spoon_50_sample_dataset.csv\n"
          ]
        },
        {
          "data": {
            "text/html": [
              "\n",
              "     <input type=\"file\" id=\"files-20c992b6-5bc4-478b-83ef-c431a94ea8f7\" name=\"files[]\" multiple disabled\n",
              "        style=\"border:none\" />\n",
              "     <output id=\"result-20c992b6-5bc4-478b-83ef-c431a94ea8f7\">\n",
              "      Upload widget is only available when the cell has been executed in the\n",
              "      current browser session. Please rerun this cell to enable.\n",
              "      </output>\n",
              "      <script>// Copyright 2017 Google LLC\n",
              "//\n",
              "// Licensed under the Apache License, Version 2.0 (the \"License\");\n",
              "// you may not use this file except in compliance with the License.\n",
              "// You may obtain a copy of the License at\n",
              "//\n",
              "//      http://www.apache.org/licenses/LICENSE-2.0\n",
              "//\n",
              "// Unless required by applicable law or agreed to in writing, software\n",
              "// distributed under the License is distributed on an \"AS IS\" BASIS,\n",
              "// WITHOUT WARRANTIES OR CONDITIONS OF ANY KIND, either express or implied.\n",
              "// See the License for the specific language governing permissions and\n",
              "// limitations under the License.\n",
              "\n",
              "/**\n",
              " * @fileoverview Helpers for google.colab Python module.\n",
              " */\n",
              "(function(scope) {\n",
              "function span(text, styleAttributes = {}) {\n",
              "  const element = document.createElement('span');\n",
              "  element.textContent = text;\n",
              "  for (const key of Object.keys(styleAttributes)) {\n",
              "    element.style[key] = styleAttributes[key];\n",
              "  }\n",
              "  return element;\n",
              "}\n",
              "\n",
              "// Max number of bytes which will be uploaded at a time.\n",
              "const MAX_PAYLOAD_SIZE = 100 * 1024;\n",
              "\n",
              "function _uploadFiles(inputId, outputId) {\n",
              "  const steps = uploadFilesStep(inputId, outputId);\n",
              "  const outputElement = document.getElementById(outputId);\n",
              "  // Cache steps on the outputElement to make it available for the next call\n",
              "  // to uploadFilesContinue from Python.\n",
              "  outputElement.steps = steps;\n",
              "\n",
              "  return _uploadFilesContinue(outputId);\n",
              "}\n",
              "\n",
              "// This is roughly an async generator (not supported in the browser yet),\n",
              "// where there are multiple asynchronous steps and the Python side is going\n",
              "// to poll for completion of each step.\n",
              "// This uses a Promise to block the python side on completion of each step,\n",
              "// then passes the result of the previous step as the input to the next step.\n",
              "function _uploadFilesContinue(outputId) {\n",
              "  const outputElement = document.getElementById(outputId);\n",
              "  const steps = outputElement.steps;\n",
              "\n",
              "  const next = steps.next(outputElement.lastPromiseValue);\n",
              "  return Promise.resolve(next.value.promise).then((value) => {\n",
              "    // Cache the last promise value to make it available to the next\n",
              "    // step of the generator.\n",
              "    outputElement.lastPromiseValue = value;\n",
              "    return next.value.response;\n",
              "  });\n",
              "}\n",
              "\n",
              "/**\n",
              " * Generator function which is called between each async step of the upload\n",
              " * process.\n",
              " * @param {string} inputId Element ID of the input file picker element.\n",
              " * @param {string} outputId Element ID of the output display.\n",
              " * @return {!Iterable<!Object>} Iterable of next steps.\n",
              " */\n",
              "function* uploadFilesStep(inputId, outputId) {\n",
              "  const inputElement = document.getElementById(inputId);\n",
              "  inputElement.disabled = false;\n",
              "\n",
              "  const outputElement = document.getElementById(outputId);\n",
              "  outputElement.innerHTML = '';\n",
              "\n",
              "  const pickedPromise = new Promise((resolve) => {\n",
              "    inputElement.addEventListener('change', (e) => {\n",
              "      resolve(e.target.files);\n",
              "    });\n",
              "  });\n",
              "\n",
              "  const cancel = document.createElement('button');\n",
              "  inputElement.parentElement.appendChild(cancel);\n",
              "  cancel.textContent = 'Cancel upload';\n",
              "  const cancelPromise = new Promise((resolve) => {\n",
              "    cancel.onclick = () => {\n",
              "      resolve(null);\n",
              "    };\n",
              "  });\n",
              "\n",
              "  // Wait for the user to pick the files.\n",
              "  const files = yield {\n",
              "    promise: Promise.race([pickedPromise, cancelPromise]),\n",
              "    response: {\n",
              "      action: 'starting',\n",
              "    }\n",
              "  };\n",
              "\n",
              "  cancel.remove();\n",
              "\n",
              "  // Disable the input element since further picks are not allowed.\n",
              "  inputElement.disabled = true;\n",
              "\n",
              "  if (!files) {\n",
              "    return {\n",
              "      response: {\n",
              "        action: 'complete',\n",
              "      }\n",
              "    };\n",
              "  }\n",
              "\n",
              "  for (const file of files) {\n",
              "    const li = document.createElement('li');\n",
              "    li.append(span(file.name, {fontWeight: 'bold'}));\n",
              "    li.append(span(\n",
              "        `(${file.type || 'n/a'}) - ${file.size} bytes, ` +\n",
              "        `last modified: ${\n",
              "            file.lastModifiedDate ? file.lastModifiedDate.toLocaleDateString() :\n",
              "                                    'n/a'} - `));\n",
              "    const percent = span('0% done');\n",
              "    li.appendChild(percent);\n",
              "\n",
              "    outputElement.appendChild(li);\n",
              "\n",
              "    const fileDataPromise = new Promise((resolve) => {\n",
              "      const reader = new FileReader();\n",
              "      reader.onload = (e) => {\n",
              "        resolve(e.target.result);\n",
              "      };\n",
              "      reader.readAsArrayBuffer(file);\n",
              "    });\n",
              "    // Wait for the data to be ready.\n",
              "    let fileData = yield {\n",
              "      promise: fileDataPromise,\n",
              "      response: {\n",
              "        action: 'continue',\n",
              "      }\n",
              "    };\n",
              "\n",
              "    // Use a chunked sending to avoid message size limits. See b/62115660.\n",
              "    let position = 0;\n",
              "    do {\n",
              "      const length = Math.min(fileData.byteLength - position, MAX_PAYLOAD_SIZE);\n",
              "      const chunk = new Uint8Array(fileData, position, length);\n",
              "      position += length;\n",
              "\n",
              "      const base64 = btoa(String.fromCharCode.apply(null, chunk));\n",
              "      yield {\n",
              "        response: {\n",
              "          action: 'append',\n",
              "          file: file.name,\n",
              "          data: base64,\n",
              "        },\n",
              "      };\n",
              "\n",
              "      let percentDone = fileData.byteLength === 0 ?\n",
              "          100 :\n",
              "          Math.round((position / fileData.byteLength) * 100);\n",
              "      percent.textContent = `${percentDone}% done`;\n",
              "\n",
              "    } while (position < fileData.byteLength);\n",
              "  }\n",
              "\n",
              "  // All done.\n",
              "  yield {\n",
              "    response: {\n",
              "      action: 'complete',\n",
              "    }\n",
              "  };\n",
              "}\n",
              "\n",
              "scope.google = scope.google || {};\n",
              "scope.google.colab = scope.google.colab || {};\n",
              "scope.google.colab._files = {\n",
              "  _uploadFiles,\n",
              "  _uploadFilesContinue,\n",
              "};\n",
              "})(self);\n",
              "</script> "
            ],
            "text/plain": [
              "<IPython.core.display.HTML object>"
            ]
          },
          "metadata": {},
          "output_type": "display_data"
        },
        {
          "name": "stdout",
          "output_type": "stream",
          "text": [
            "Saving smart_spoon_50_sample_dataset.csv to smart_spoon_50_sample_dataset (1).csv\n",
            "Loaded dataset:\n",
            "   User_ID  Age Food_Type Salt_Estimate  Previous_Stimulation_Level  \\\n",
            "0        1   52     Pizza        Medium                           4   \n",
            "1        2   52      Stew           Low                           3   \n",
            "2        3   59     Pizza     Very High                           2   \n",
            "3        4   52   Noodles     Very High                           5   \n",
            "4        5   71     Pasta        Medium                           1   \n",
            "\n",
            "   User_Feedback_Score              Text_Feedback  \\\n",
            "0                    1    Balanced and enjoyable.   \n",
            "1                    2  Overpowering stimulation.   \n",
            "2                    5      Needs more intensity.   \n",
            "3                    3      Needs more intensity.   \n",
            "4                    3  Overpowering stimulation.   \n",
            "\n",
            "   Recommended_Stimulation_Level  \n",
            "0                              3  \n",
            "1                              2  \n",
            "2                              3  \n",
            "3                              4  \n",
            "4                              1  \n"
          ]
        }
      ],
      "source": [
        "# Upload the CSV file\n",
        "print(\"Upload smart_spoon_50_sample_dataset.csv\")\n",
        "uploaded = files.upload()\n",
        "\n",
        "# Load the CSV into a table\n",
        "csv_file = 'smart_spoon_50_sample_dataset.csv'\n",
        "food_df = pd.read_csv(csv_file)\n",
        "print(\"Loaded dataset:\")\n",
        "print(food_df.head())"
      ]
    },
    {
      "cell_type": "code",
      "execution_count": null,
      "metadata": {
        "colab": {
          "base_uri": "https://localhost:8080/"
        },
        "id": "rbn2eLek9GpR",
        "outputId": "aaab0108-8e62-4cc4-bafa-8510026ffeae"
      },
      "outputs": [
        {
          "name": "stdout",
          "output_type": "stream",
          "text": [
            "Created food_labels.csv with 50 entries\n",
            "                                          image_path category texture  \\\n",
            "0  /content/drive/MyDrive/SmartSpoon_Dataset/imag...    Pizza   solid   \n",
            "1  /content/drive/MyDrive/SmartSpoon_Dataset/imag...     Stew  liquid   \n",
            "2  /content/drive/MyDrive/SmartSpoon_Dataset/imag...    Pizza   solid   \n",
            "3  /content/drive/MyDrive/SmartSpoon_Dataset/imag...  Noodles   mixed   \n",
            "4  /content/drive/MyDrive/SmartSpoon_Dataset/imag...    Pasta   mixed   \n",
            "\n",
            "  salt_content  \n",
            "0       Medium  \n",
            "1          Low  \n",
            "2    Very High  \n",
            "3    Very High  \n",
            "4       Medium  \n"
          ]
        }
      ],
      "source": [
        "# Create a folder in Google Drive\n",
        "food_dataset_dir = '/content/drive/MyDrive/SmartSpoon_Dataset'\n",
        "os.makedirs(food_dataset_dir, exist_ok=True)\n",
        "\n",
        "# Define texture for each food type\n",
        "texture_map = {\n",
        "    'Soup': 'liquid',\n",
        "    'Stew': 'liquid',\n",
        "    'Curry': 'liquid',\n",
        "    'Gravy': 'liquid',\n",
        "    'Salad': 'mixed',\n",
        "    'Pasta': 'mixed',\n",
        "    'Noodles': 'mixed',\n",
        "    'Pizza': 'solid',\n",
        "    'Bread': 'solid',\n",
        "    'Rice': 'solid'\n",
        "}\n",
        "\n",
        "# Create food recognition data\n",
        "food_data = []\n",
        "for idx, row in food_df.iterrows():\n",
        "    category = row['Food_Type']\n",
        "    salt_content = row['Salt_Estimate']\n",
        "    texture = texture_map.get(category, 'mixed')  # Default to 'mixed' if not found\n",
        "    # Simulate image path (replace with real paths if you have images)\n",
        "    image_path = f\"{food_dataset_dir}/images/{category.lower()}_{idx}.jpg\"\n",
        "    food_data.append({\n",
        "        'image_path': image_path,\n",
        "        'category': category,\n",
        "        'texture': texture,\n",
        "        'salt_content': salt_content\n",
        "    })\n",
        "\n",
        "# Save to CSV\n",
        "food_labels_df = pd.DataFrame(food_data)\n",
        "food_labels_csv = os.path.join(food_dataset_dir, 'food_labels.csv')\n",
        "food_labels_df.to_csv(food_labels_csv, index=False)\n",
        "print(\"Created food_labels.csv with\", len(food_labels_df), \"entries\")\n",
        "print(food_labels_df.head())\n"
      ]
    },
    {
      "cell_type": "code",
      "execution_count": null,
      "metadata": {
        "colab": {
          "base_uri": "https://localhost:8080/"
        },
        "id": "y6W4kN2c9WRQ",
        "outputId": "d6477704-7682-4c1d-9bce-d7a6b10d94c3"
      },
      "outputs": [
        {
          "name": "stdout",
          "output_type": "stream",
          "text": [
            "Requirement already satisfied: opencv-python-headless in /usr/local/lib/python3.11/dist-packages (4.11.0.86)\n",
            "Requirement already satisfied: numpy>=1.21.2 in /usr/local/lib/python3.11/dist-packages (from opencv-python-headless) (2.0.2)\n",
            "Images processed and saved in /content/drive/MyDrive/SmartSpoon_Dataset/Processed\n"
          ]
        }
      ],
      "source": [
        "# Install OpenCV if needed\n",
        "!pip install opencv-python-headless\n",
        "import cv2\n",
        "\n",
        "# Create a folder for processed images\n",
        "processed_dir = os.path.join(food_dataset_dir, 'Processed')\n",
        "os.makedirs(processed_dir, exist_ok=True)\n",
        "\n",
        "# Function to process an image\n",
        "def process_image(image_path, output_path):\n",
        "    try:\n",
        "        img = cv2.imread(image_path)\n",
        "        if img is None:\n",
        "            return False\n",
        "        img_resized = cv2.resize(img, (224, 224))\n",
        "        img_normalized = img_resized / 255.0\n",
        "        cv2.imwrite(output_path, img_normalized * 255)\n",
        "        return True\n",
        "    except:\n",
        "        return False\n",
        "\n",
        "# Process images (if you have them)\n",
        "for idx, row in food_labels_df.iterrows():\n",
        "    image_path = row['image_path']\n",
        "    output_path = os.path.join(processed_dir, f\"{row['category']}_{idx}.jpg\")\n",
        "    if process_image(image_path, output_path):\n",
        "        print(f\"Processed {image_path}\")\n",
        "print(\"Images processed and saved in\", processed_dir)"
      ]
    },
    {
      "cell_type": "code",
      "execution_count": null,
      "metadata": {
        "colab": {
          "base_uri": "https://localhost:8080/"
        },
        "id": "TxhI3rl59fig",
        "outputId": "6ed021a6-2cb8-4741-848f-8e99e773c8bb"
      },
      "outputs": [
        {
          "name": "stdout",
          "output_type": "stream",
          "text": [
            "Created user_preferences.csv\n",
            "   user_id  age dietary_restriction  saltiness_rating  umami_rating  \\\n",
            "0        1   59      kidney_disease                 4             3   \n",
            "1        2   68        hypertension                 3             4   \n",
            "2        3   29        hypertension                 5             2   \n",
            "3        4   52      kidney_disease                 2             1   \n",
            "4        5   46        hypertension                 5             4   \n",
            "\n",
            "   desired_intensity  \n",
            "0                  3  \n",
            "1                  1  \n",
            "2                  3  \n",
            "3                  1  \n",
            "4                  1  \n"
          ]
        }
      ],
      "source": [
        "# Use ages from the provided dataset\n",
        "import random\n",
        "ages = food_df['Age'].unique().tolist()  # Get unique ages\n",
        "num_users = 100\n",
        "user_data = {\n",
        "    'user_id': list(range(1, num_users + 1)),\n",
        "    'age': [random.choice(ages) for _ in range(num_users)],  # Pick ages from CSV\n",
        "    'dietary_restriction': [random.choice(['hypertension', 'kidney_disease', 'none']) for _ in range(num_users)],\n",
        "    'saltiness_rating': [random.randint(1, 5) for _ in range(num_users)],  # 1=low, 5=high\n",
        "    'umami_rating': [random.randint(1, 5) for _ in range(num_users)],\n",
        "    'desired_intensity': [random.randint(1, 3) for _ in range(num_users)]  # 1=low, 3=high\n",
        "}\n",
        "\n",
        "# Save to CSV\n",
        "user_df = pd.DataFrame(user_data)\n",
        "user_csv = os.path.join(food_dataset_dir, 'user_preferences.csv')\n",
        "user_df.to_csv(user_csv, index=False)\n",
        "print(\"Created user_preferences.csv\")\n",
        "print(user_df.head())"
      ]
    },
    {
      "cell_type": "code",
      "execution_count": null,
      "metadata": {
        "colab": {
          "base_uri": "https://localhost:8080/",
          "height": 17
        },
        "id": "BRddceD49p0r",
        "outputId": "fbf1a680-4f86-440d-b281-4c229ee3eebe"
      },
      "outputs": [
        {
          "data": {
            "application/javascript": "\n    async function download(id, filename, size) {\n      if (!google.colab.kernel.accessAllowed) {\n        return;\n      }\n      const div = document.createElement('div');\n      const label = document.createElement('label');\n      label.textContent = `Downloading \"${filename}\": `;\n      div.appendChild(label);\n      const progress = document.createElement('progress');\n      progress.max = size;\n      div.appendChild(progress);\n      document.body.appendChild(div);\n\n      const buffers = [];\n      let downloaded = 0;\n\n      const channel = await google.colab.kernel.comms.open(id);\n      // Send a message to notify the kernel that we're ready.\n      channel.send({})\n\n      for await (const message of channel.messages) {\n        // Send a message to notify the kernel that we're ready.\n        channel.send({})\n        if (message.buffers) {\n          for (const buffer of message.buffers) {\n            buffers.push(buffer);\n            downloaded += buffer.byteLength;\n            progress.value = downloaded;\n          }\n        }\n      }\n      const blob = new Blob(buffers, {type: 'application/binary'});\n      const a = document.createElement('a');\n      a.href = window.URL.createObjectURL(blob);\n      a.download = filename;\n      div.appendChild(a);\n      a.click();\n      div.remove();\n    }\n  ",
            "text/plain": [
              "<IPython.core.display.Javascript object>"
            ]
          },
          "metadata": {},
          "output_type": "display_data"
        },
        {
          "data": {
            "application/javascript": "download(\"download_137be298-be6f-4b20-b65c-87332dbaf19d\", \"food_labels.csv\", 4089)",
            "text/plain": [
              "<IPython.core.display.Javascript object>"
            ]
          },
          "metadata": {},
          "output_type": "display_data"
        },
        {
          "data": {
            "application/javascript": "\n    async function download(id, filename, size) {\n      if (!google.colab.kernel.accessAllowed) {\n        return;\n      }\n      const div = document.createElement('div');\n      const label = document.createElement('label');\n      label.textContent = `Downloading \"${filename}\": `;\n      div.appendChild(label);\n      const progress = document.createElement('progress');\n      progress.max = size;\n      div.appendChild(progress);\n      document.body.appendChild(div);\n\n      const buffers = [];\n      let downloaded = 0;\n\n      const channel = await google.colab.kernel.comms.open(id);\n      // Send a message to notify the kernel that we're ready.\n      channel.send({})\n\n      for await (const message of channel.messages) {\n        // Send a message to notify the kernel that we're ready.\n        channel.send({})\n        if (message.buffers) {\n          for (const buffer of message.buffers) {\n            buffers.push(buffer);\n            downloaded += buffer.byteLength;\n            progress.value = downloaded;\n          }\n        }\n      }\n      const blob = new Blob(buffers, {type: 'application/binary'});\n      const a = document.createElement('a');\n      a.href = window.URL.createObjectURL(blob);\n      a.download = filename;\n      div.appendChild(a);\n      a.click();\n      div.remove();\n    }\n  ",
            "text/plain": [
              "<IPython.core.display.Javascript object>"
            ]
          },
          "metadata": {},
          "output_type": "display_data"
        },
        {
          "data": {
            "application/javascript": "download(\"download_acfbfe7f-b466-42a3-a946-625ad6bce7be\", \"user_preferences.csv\", 2326)",
            "text/plain": [
              "<IPython.core.display.Javascript object>"
            ]
          },
          "metadata": {},
          "output_type": "display_data"
        }
      ],
      "source": [
        "# Download the CSVs\n",
        "files.download(food_labels_csv)\n",
        "files.download(user_csv)"
      ]
    },
    {
      "cell_type": "code",
      "execution_count": null,
      "metadata": {
        "colab": {
          "base_uri": "https://localhost:8080/"
        },
        "id": "FnYr2e5Y-Ltb",
        "outputId": "2c5ca022-c07e-4128-e7b0-71d826eb89df"
      },
      "outputs": [
        {
          "name": "stdout",
          "output_type": "stream",
          "text": [
            "Drive already mounted at /content/drive; to attempt to forcibly remount, call drive.mount(\"/content/drive\", force_remount=True).\n",
            "Requirement already satisfied: pandas in /usr/local/lib/python3.11/dist-packages (2.2.2)\n",
            "Requirement already satisfied: scikit-learn in /usr/local/lib/python3.11/dist-packages (1.6.1)\n",
            "Requirement already satisfied: joblib in /usr/local/lib/python3.11/dist-packages (1.4.2)\n",
            "Requirement already satisfied: numpy>=1.23.2 in /usr/local/lib/python3.11/dist-packages (from pandas) (2.0.2)\n",
            "Requirement already satisfied: python-dateutil>=2.8.2 in /usr/local/lib/python3.11/dist-packages (from pandas) (2.8.2)\n",
            "Requirement already satisfied: pytz>=2020.1 in /usr/local/lib/python3.11/dist-packages (from pandas) (2025.2)\n",
            "Requirement already satisfied: tzdata>=2022.7 in /usr/local/lib/python3.11/dist-packages (from pandas) (2025.2)\n",
            "Requirement already satisfied: scipy>=1.6.0 in /usr/local/lib/python3.11/dist-packages (from scikit-learn) (1.14.1)\n",
            "Requirement already satisfied: threadpoolctl>=3.1.0 in /usr/local/lib/python3.11/dist-packages (from scikit-learn) (3.6.0)\n",
            "Requirement already satisfied: six>=1.5 in /usr/local/lib/python3.11/dist-packages (from python-dateutil>=2.8.2->pandas) (1.17.0)\n",
            "Food Recognition Dataset:\n",
            "                                          image_path category texture  \\\n",
            "0  /content/drive/MyDrive/SmartSpoon_Dataset/imag...    Pizza   solid   \n",
            "1  /content/drive/MyDrive/SmartSpoon_Dataset/imag...     Stew  liquid   \n",
            "2  /content/drive/MyDrive/SmartSpoon_Dataset/imag...    Pizza   solid   \n",
            "3  /content/drive/MyDrive/SmartSpoon_Dataset/imag...  Noodles   mixed   \n",
            "4  /content/drive/MyDrive/SmartSpoon_Dataset/imag...    Pasta   mixed   \n",
            "\n",
            "  salt_content  \n",
            "0       Medium  \n",
            "1          Low  \n",
            "2    Very High  \n",
            "3    Very High  \n",
            "4       Medium  \n",
            "\n",
            "User Preferences Dataset:\n",
            "   user_id  age dietary_restriction  saltiness_rating  umami_rating  \\\n",
            "0        1   59      kidney_disease                 4             3   \n",
            "1        2   68        hypertension                 3             4   \n",
            "2        3   29        hypertension                 5             2   \n",
            "3        4   52      kidney_disease                 2             1   \n",
            "4        5   46        hypertension                 5             4   \n",
            "\n",
            "   desired_intensity  \n",
            "0                  3  \n",
            "1                  1  \n",
            "2                  3  \n",
            "3                  1  \n",
            "4                  1  \n"
          ]
        }
      ],
      "source": [
        "# Step 7: Verify Environment and Load Datasets\n",
        "from google.colab import drive\n",
        "drive.mount('/content/drive')  # Re-mount if in a new session\n",
        "\n",
        "# Install tools (skip if already installed in the same session)\n",
        "!pip install pandas scikit-learn joblib\n",
        "\n",
        "# Load tools\n",
        "import pandas as pd\n",
        "import numpy as np\n",
        "from sklearn.model_selection import train_test_split\n",
        "from sklearn.preprocessing import LabelEncoder\n",
        "from sklearn.ensemble import RandomForestClassifier, RandomForestRegressor\n",
        "from sklearn.metrics import accuracy_score, mean_squared_error\n",
        "import joblib\n",
        "import os\n",
        "\n",
        "# Load CSVs from existing environment\n",
        "food_dataset_dir = '/content/drive/MyDrive/SmartSpoon_Dataset'\n",
        "food_labels_csv = os.path.join(food_dataset_dir, 'food_labels.csv')\n",
        "user_csv = os.path.join(food_dataset_dir, 'user_preferences.csv')\n",
        "\n",
        "# Check if files exist\n",
        "if not os.path.exists(food_labels_csv) or not os.path.exists(user_csv):\n",
        "    print(\"Error: One or both CSVs are missing. Ensure food_labels.csv and user_preferences.csv are in\", food_dataset_dir)\n",
        "else:\n",
        "    food_labels_df = pd.read_csv(food_labels_csv)\n",
        "    user_df = pd.read_csv(user_csv)\n",
        "    print(\"Food Recognition Dataset:\")\n",
        "    print(food_labels_df.head())\n",
        "    print(\"\\nUser Preferences Dataset:\")\n",
        "    print(user_df.head())"
      ]
    },
    {
      "cell_type": "code",
      "execution_count": null,
      "metadata": {
        "colab": {
          "base_uri": "https://localhost:8080/"
        },
        "id": "mWQfIli3_b8u",
        "outputId": "ee143b82-5966-47ca-ceb3-a59a5d0d3805"
      },
      "outputs": [
        {
          "name": "stdout",
          "output_type": "stream",
          "text": [
            "Food Recognition Model Accuracy: 0.1\n",
            "Food Recognition Model and Encoders saved in /content/drive/MyDrive/SmartSpoon_Dataset\n"
          ]
        }
      ],
      "source": [
        "# Step 8: Train Food Recognition Model\n",
        "# Convert text to numbers\n",
        "label_encoder_category = LabelEncoder()\n",
        "label_encoder_texture = LabelEncoder()\n",
        "label_encoder_salt = LabelEncoder()\n",
        "\n",
        "food_labels_df['category_encoded'] = label_encoder_category.fit_transform(food_labels_df['category'])\n",
        "food_labels_df['texture_encoded'] = label_encoder_texture.fit_transform(food_labels_df['texture'])\n",
        "food_labels_df['salt_content_encoded'] = label_encoder_salt.fit_transform(food_labels_df['salt_content'])\n",
        "\n",
        "# Features (inputs) and target (output)\n",
        "X_food = food_labels_df[['category_encoded', 'texture_encoded']]\n",
        "y_food = food_labels_df['salt_content_encoded']\n",
        "\n",
        "# Split data (80% training, 20% testing)\n",
        "X_train, X_test, y_train, y_test = train_test_split(X_food, y_food, test_size=0.2, random_state=42)\n",
        "\n",
        "# Train model\n",
        "food_model = RandomForestClassifier(n_estimators=100, random_state=42)\n",
        "food_model.fit(X_train, y_train)\n",
        "\n",
        "# Test model\n",
        "y_pred = food_model.predict(X_test)\n",
        "accuracy = accuracy_score(y_test, y_pred)\n",
        "print(\"Food Recognition Model Accuracy:\", accuracy)\n",
        "\n",
        "# Save model and encoders to existing directory\n",
        "joblib.dump(food_model, os.path.join(food_dataset_dir, 'food_recognition_model.pkl'))\n",
        "joblib.dump(label_encoder_category, os.path.join(food_dataset_dir, 'category_encoder.pkl'))\n",
        "joblib.dump(label_encoder_texture, os.path.join(food_dataset_dir, 'texture_encoder.pkl'))\n",
        "joblib.dump(label_encoder_salt, os.path.join(food_dataset_dir, 'salt_encoder.pkl'))\n",
        "print(\"Food Recognition Model and Encoders saved in\", food_dataset_dir)"
      ]
    },
    {
      "cell_type": "code",
      "execution_count": null,
      "metadata": {
        "colab": {
          "base_uri": "https://localhost:8080/"
        },
        "id": "Xc6fXxsg_ncn",
        "outputId": "7aeecd8b-eba8-4ac3-e760-f2ac02b34fa6"
      },
      "outputs": [
        {
          "name": "stdout",
          "output_type": "stream",
          "text": [
            "Personalized Taste Model Mean Squared Error: 0.9799392069444443\n",
            "Personalized Taste Model and Encoder saved in /content/drive/MyDrive/SmartSpoon_Dataset\n"
          ]
        }
      ],
      "source": [
        "# Step 9: Train Personalized Taste Profiles Model\n",
        "# Convert text to numbers\n",
        "label_encoder_diet = LabelEncoder()\n",
        "user_df['dietary_restriction_encoded'] = label_encoder_diet.fit_transform(user_df['dietary_restriction'])\n",
        "\n",
        "# Features and target\n",
        "X_user = user_df[['age', 'dietary_restriction_encoded', 'saltiness_rating', 'umami_rating']]\n",
        "y_user = user_df['desired_intensity']\n",
        "\n",
        "# Split data\n",
        "X_train_user, X_test_user, y_train_user, y_test_user = train_test_split(X_user, y_user, test_size=0.2, random_state=42)\n",
        "\n",
        "# Train model\n",
        "user_model = RandomForestRegressor(n_estimators=100, random_state=42)\n",
        "user_model.fit(X_train_user, y_train_user)\n",
        "\n",
        "# Test model\n",
        "y_pred_user = user_model.predict(X_test_user)\n",
        "mse = mean_squared_error(y_test_user, y_pred_user)\n",
        "print(\"Personalized Taste Model Mean Squared Error:\", mse)\n",
        "\n",
        "# Save model and encoder\n",
        "joblib.dump(user_model, os.path.join(food_dataset_dir, 'taste_personalization_model.pkl'))\n",
        "joblib.dump(label_encoder_diet, os.path.join(food_dataset_dir, 'diet_encoder.pkl'))\n",
        "print(\"Personalized Taste Model and Encoder saved in\", food_dataset_dir)"
      ]
    },
    {
      "cell_type": "code",
      "execution_count": null,
      "metadata": {
        "colab": {
          "base_uri": "https://localhost:8080/"
        },
        "id": "I6PAz8uk_2uF",
        "outputId": "2a290cfa-49b1-40fc-8cb7-2875ed7d8d6c"
      },
      "outputs": [
        {
          "name": "stdout",
          "output_type": "stream",
          "text": [
            "Example: For Soup (liquid), predicted salt content: Low\n",
            "Example: For user (age 52, hypertension, ratings 3 & 4), predicted intensity: 2.63\n",
            "\n",
            "Next Steps for App Integration:\n",
            "- Copy saved models (.pkl files) to the Smart Spoon app server or device.\n",
            "- Use food_recognition_model.pkl to predict salt_content from food type and texture.\n",
            "- Use taste_personalization_model.pkl to predict desired_intensity for users.\n",
            "- Update models with new user feedback by retraining in Colab.\n"
          ]
        }
      ],
      "source": [
        "# Step 10: Evaluate Models\n",
        "# Test Food Recognition Model\n",
        "example_food = pd.DataFrame({\n",
        "    'category_encoded': [label_encoder_category.transform(['Soup'])[0]],\n",
        "    'texture_encoded': [label_encoder_texture.transform(['liquid'])[0]]\n",
        "})\n",
        "predicted_salt = food_model.predict(example_food)\n",
        "predicted_salt_label = label_encoder_salt.inverse_transform([int(predicted_salt[0])])[0]\n",
        "print(\"Example: For Soup (liquid), predicted salt content:\", predicted_salt_label)\n",
        "\n",
        "# Test Personalized Taste Model\n",
        "example_user = pd.DataFrame({\n",
        "    'age': [52],\n",
        "    'dietary_restriction_encoded': [label_encoder_diet.transform(['hypertension'])[0]],\n",
        "    'saltiness_rating': [3],\n",
        "    'umami_rating': [4]\n",
        "})\n",
        "predicted_intensity = user_model.predict(example_user)\n",
        "print(\"Example: For user (age 52, hypertension, ratings 3 & 4), predicted intensity:\", predicted_intensity[0])\n",
        "\n",
        "# Guidance for App Integration\n",
        "print(\"\\nNext Steps for App Integration:\")\n",
        "print(\"- Copy saved models (.pkl files) to the Smart Spoon app server or device.\")\n",
        "print(\"- Use food_recognition_model.pkl to predict salt_content from food type and texture.\")\n",
        "print(\"- Use taste_personalization_model.pkl to predict desired_intensity for users.\")\n",
        "print(\"- Update models with new user feedback by retraining in Colab.\")"
      ]
    },
    {
      "cell_type": "code",
      "execution_count": null,
      "metadata": {
        "id": "d7nJTjwpD6YJ"
      },
      "outputs": [],
      "source": []
    }
  ],
  "metadata": {
    "colab": {
      "provenance": []
    },
    "kernelspec": {
      "display_name": "Python 3",
      "name": "python3"
    },
    "language_info": {
      "name": "python"
    }
  },
  "nbformat": 4,
  "nbformat_minor": 0
}
